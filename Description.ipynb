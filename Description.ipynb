{
 "cells": [
  {
   "cell_type": "markdown",
   "metadata": {},
   "source": [
    "## Introduction\n",
    "According to the TomTom Index Traffic Report, which was based on 2014 data, Seattle is known for having the fourth worst traffic congestion in the United States. Mooreover, Seattle had a total of 13,971 accidents in 2014, the highest in the state. Third major reason of mortality in the world is death in a traffic accident. Because of that, many may feel lack of security when they drive or even walk the street as a pedestrain.\n",
    "Seattle Department of Transportation provides traffic accident cases from 2004 to examine the data and (probably) discover the reasons behind these collisions.\n",
    "\n",
    "The aim of this project is to see whether there are any actions that could be taken to avoid accidents or reduce their severity by analyzing data from the Seattle Department of Transportation. It will be done by analyzing the collision dataset for the city of Seattle and find patterns and determinate key factors such as weather, light and road conditions, drug or alcohol influence, driver inattention to provide the best traffic accident severity prediction. Various analytical techniques and machine learning classification algorithms will be used, such as: Logistic Regression, Decision Tree Analysis, K-nearest-neighbors, Support Vector Machine, ...\n",
    "\n",
    "This study is focused on improving traffic policies or updating public facilities such as street lamp,  speed bumps at proper positions. Car rental or insurance companies can also classify potentical customers and design different service content based on customers driving habits, that's why they are also among the target groups of this analysis."
   ]
  }
 ],
 "metadata": {
  "kernelspec": {
   "display_name": "Python 3",
   "language": "python",
   "name": "python3"
  },
  "language_info": {
   "codemirror_mode": {
    "name": "ipython",
    "version": 3
   },
   "file_extension": ".py",
   "mimetype": "text/x-python",
   "name": "python",
   "nbconvert_exporter": "python",
   "pygments_lexer": "ipython3",
   "version": "3.7.4"
  }
 },
 "nbformat": 4,
 "nbformat_minor": 2
}
