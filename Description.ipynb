{
 "cells": [
  {
   "cell_type": "markdown",
   "metadata": {},
   "source": [
    "## Introduction\n",
    "According to the TomTom Index Traffic Report, which was based on 2014 data, Seattle is known for having the fourth worst traffic congestion in the United States. Mooreover, Seattle had a total of 13,971 accidents in 2014, the highest in the state. Third major reason of mortality in the world is death in a traffic accident. Because of that, many may feel lack of security when they drive or even walk the street as a pedestrain.\n",
    "Seattle Department of Transportation provides traffic accident cases from 2004 to examine the data and (probably) discover the reasons behind these collisions.\n",
    "\n",
    "The aim of this project is to see whether there are any actions that could be taken to avoid accidents or reduce their severity by analyzing data from the Seattle Department of Transportation. It will be done by analyzing the collision dataset for the city of Seattle and find patterns and determinate key factors such as weather, light and road conditions, drug or alcohol influence, driver inattention to provide the best traffic accident severity prediction. Various analytical techniques and machine learning classification algorithms will be used, such as: Logistic Regression, Decision Tree Analysis, K-nearest-neighbors, Support Vector Machine, ...\n",
    "\n",
    "This study is focused on improving traffic policies or updating public facilities such as street lamp,  speed bumps at proper positions. Car rental or insurance companies can also classify potentical customers and design different service content based on customers driving habits, that's why they are also among the target groups of this analysis."
   ]
  },
  {
   "cell_type": "markdown",
   "metadata": {},
   "source": [
    "## Data\n",
    "The data used in this project is from Seattle's Collision GIS (Geographic Information System), a computer system used for capturing, storing and displaying data related to positions on Earth's surface. The dataset regarding to this project contains various features of collisions in Seattle from 2004 to 2020. There are almost 200,000 collisions in the dataset and 38 features. Some of them, of course, won't be useful - that's why I will explore in more detail only:\n",
    "\n",
    "* **Severity Code** - the target used to compare the features' impact on,\n",
    "* **Severity Description** - description of the severity codes,\n",
    "* **X and Y values** - coordinates,\n",
    "* **Address Type** - alley, block or intersection of collision,\n",
    "* **Collision Type** - 10 types of collisions such as parked car, angles, rear end, pedestrian, etc.,\n",
    "* **Person Count** - number of people involved in collision,\n",
    "* **Pedestrian Count** - number of pedestrians involved in collision,\n",
    "* **Cyclist Count** - number of cyclists involved in collision,\n",
    "* **Vehicle count** - number of vehicles involved in collision,\n",
    "* **Date/Time** - date/time of an accident,\n",
    "* **Junction Type** - 7 types describing collision at intersection, mid-block, driveway and whether collision is related to intersection,\n",
    "* **Seattle Collision Code** - Seattle codes to describe each collision,\n",
    "* **Seattle Collision Description** - description of Seattle collision codes,\n",
    "* **Under Influence** - alcohol or drugs involved,\n",
    "* **Weather** - kind of weather during an accident,\n",
    "* **Road Conditions** - adverse road conditions,\n",
    "* **Light Conditions** - adverse light conditions,\n",
    "* **State Collision Code** - 84 codes the state uses to describe each collision,\n",
    "* **State Collision Description** - description of state collision codes,\n",
    "* **Hit Parked Car** - a parked car involved in the collision.\n"
   ]
  },
  {
   "cell_type": "code",
   "execution_count": null,
   "metadata": {},
   "outputs": [],
   "source": []
  }
 ],
 "metadata": {
  "kernelspec": {
   "display_name": "Python 3",
   "language": "python",
   "name": "python3"
  },
  "language_info": {
   "codemirror_mode": {
    "name": "ipython",
    "version": 3
   },
   "file_extension": ".py",
   "mimetype": "text/x-python",
   "name": "python",
   "nbconvert_exporter": "python",
   "pygments_lexer": "ipython3",
   "version": "3.7.4"
  }
 },
 "nbformat": 4,
 "nbformat_minor": 2
}
